{
 "cells": [
  {
   "cell_type": "code",
   "execution_count": 1,
   "id": "bbb52a4b",
   "metadata": {},
   "outputs": [],
   "source": [
    "import pandas as pd"
   ]
  },
  {
   "cell_type": "code",
   "execution_count": 4,
   "id": "0a6d223d",
   "metadata": {},
   "outputs": [
    {
     "data": {
      "text/plain": [
       "0    5\n",
       "0    5\n",
       "0    5\n",
       "0    5\n",
       "0    5\n",
       "dtype: int64"
      ]
     },
     "execution_count": 4,
     "metadata": {},
     "output_type": "execute_result"
    }
   ],
   "source": [
    "sr=pd.Series(5).repeat(5)\n",
    "sr"
   ]
  },
  {
   "cell_type": "code",
   "execution_count": 5,
   "id": "5bed08ec",
   "metadata": {},
   "outputs": [
    {
     "data": {
      "text/plain": [
       "0    5\n",
       "1    5\n",
       "2    5\n",
       "3    5\n",
       "4    5\n",
       "dtype: int64"
      ]
     },
     "execution_count": 5,
     "metadata": {},
     "output_type": "execute_result"
    }
   ],
   "source": [
    "sr.reset_index(drop=True)"
   ]
  },
  {
   "cell_type": "code",
   "execution_count": 6,
   "id": "39e6166a",
   "metadata": {},
   "outputs": [
    {
     "data": {
      "text/plain": [
       "min     1\n",
       "max     5\n",
       "sum    15\n",
       "dtype: int64"
      ]
     },
     "execution_count": 6,
     "metadata": {},
     "output_type": "execute_result"
    }
   ],
   "source": [
    "sr1=pd.Series([1,2,3,4,5])\n",
    "sr1.agg([min,max,sum])"
   ]
  },
  {
   "cell_type": "code",
   "execution_count": 10,
   "id": "4d76ca4a",
   "metadata": {},
   "outputs": [],
   "source": [
    "sab=pd.Series([1,-2,-3,4,-5])\n",
    "sab=sab.abs()"
   ]
  },
  {
   "cell_type": "code",
   "execution_count": 11,
   "id": "59ca3489",
   "metadata": {},
   "outputs": [
    {
     "data": {
      "text/plain": [
       "0    1.0\n",
       "1    2.0\n",
       "2    3.0\n",
       "3    4.0\n",
       "4    5.0\n",
       "dtype: float64"
      ]
     },
     "execution_count": 11,
     "metadata": {},
     "output_type": "execute_result"
    }
   ],
   "source": [
    "sab.astype(\"float\")"
   ]
  },
  {
   "cell_type": "code",
   "execution_count": 12,
   "id": "84aa9d21",
   "metadata": {},
   "outputs": [
    {
     "data": {
      "text/plain": [
       "0    False\n",
       "1    False\n",
       "2     True\n",
       "3     True\n",
       "4     True\n",
       "dtype: bool"
      ]
     },
     "execution_count": 12,
     "metadata": {},
     "output_type": "execute_result"
    }
   ],
   "source": [
    "sab.between(3,5)"
   ]
  },
  {
   "cell_type": "code",
   "execution_count": 20,
   "id": "9fb930dd",
   "metadata": {},
   "outputs": [],
   "source": [
    "qw=pd.Series(['qwerty','uiopa/','sdfgh','jklzx','cbnm'])"
   ]
  },
  {
   "cell_type": "code",
   "execution_count": 14,
   "id": "bbef5565",
   "metadata": {},
   "outputs": [
    {
     "data": {
      "text/plain": [
       "0    QWERTY\n",
       "1     UIOPA\n",
       "2     SDFGH\n",
       "3     JKLZX\n",
       "4      CBNM\n",
       "dtype: object"
      ]
     },
     "execution_count": 14,
     "metadata": {},
     "output_type": "execute_result"
    }
   ],
   "source": [
    "qw.str.upper()"
   ]
  },
  {
   "cell_type": "code",
   "execution_count": 15,
   "id": "79228d03",
   "metadata": {},
   "outputs": [
    {
     "data": {
      "text/plain": [
       "0    qwerty\n",
       "1     uiopa\n",
       "2     sdfgh\n",
       "3     jklzx\n",
       "4      cbnm\n",
       "dtype: object"
      ]
     },
     "execution_count": 15,
     "metadata": {},
     "output_type": "execute_result"
    }
   ],
   "source": [
    "qw.str.lower()"
   ]
  },
  {
   "cell_type": "code",
   "execution_count": 21,
   "id": "6958742a",
   "metadata": {},
   "outputs": [
    {
     "data": {
      "text/plain": [
       "0    qwerty\n",
       "1     uiopa\n",
       "2     sdfgh\n",
       "3     jklzx\n",
       "4      cbnm\n",
       "dtype: object"
      ]
     },
     "execution_count": 21,
     "metadata": {},
     "output_type": "execute_result"
    }
   ],
   "source": [
    "qw.str.strip('/')"
   ]
  },
  {
   "cell_type": "code",
   "execution_count": 22,
   "id": "f6a09b97",
   "metadata": {},
   "outputs": [
    {
     "data": {
      "text/plain": [
       "0    [qwerty]\n",
       "1    [uiopa/]\n",
       "2     [sdfgh]\n",
       "3     [jklzx]\n",
       "4      [cbnm]\n",
       "dtype: object"
      ]
     },
     "execution_count": 22,
     "metadata": {},
     "output_type": "execute_result"
    }
   ],
   "source": [
    "qw.str.split()"
   ]
  },
  {
   "cell_type": "code",
   "execution_count": 25,
   "id": "fdc28c36",
   "metadata": {},
   "outputs": [
    {
     "data": {
      "text/plain": [
       "['qwerty']"
      ]
     },
     "execution_count": 25,
     "metadata": {},
     "output_type": "execute_result"
    }
   ],
   "source": [
    "qw.str.split()[0]"
   ]
  },
  {
   "cell_type": "code",
   "execution_count": 26,
   "id": "aa768efd",
   "metadata": {},
   "outputs": [
    {
     "data": {
      "text/plain": [
       "0    False\n",
       "1    False\n",
       "2    False\n",
       "3    False\n",
       "4    False\n",
       "dtype: bool"
      ]
     },
     "execution_count": 26,
     "metadata": {},
     "output_type": "execute_result"
    }
   ],
   "source": [
    "qw.str.contains('@')"
   ]
  },
  {
   "cell_type": "code",
   "execution_count": 27,
   "id": "8761db14",
   "metadata": {},
   "outputs": [
    {
     "data": {
      "text/plain": [
       "0    0\n",
       "1    1\n",
       "2    0\n",
       "3    0\n",
       "4    0\n",
       "dtype: int64"
      ]
     },
     "execution_count": 27,
     "metadata": {},
     "output_type": "execute_result"
    }
   ],
   "source": [
    "qw.str.count('a')"
   ]
  },
  {
   "cell_type": "code",
   "execution_count": 30,
   "id": "99853870",
   "metadata": {},
   "outputs": [],
   "source": [
    "qw=qw.to_list()"
   ]
  },
  {
   "cell_type": "code",
   "execution_count": 31,
   "id": "c8354631",
   "metadata": {},
   "outputs": [
    {
     "data": {
      "text/plain": [
       "['qwerty', 'uiopa/', 'sdfgh', 'jklzx', 'cbnm']"
      ]
     },
     "execution_count": 31,
     "metadata": {},
     "output_type": "execute_result"
    }
   ],
   "source": [
    "qw"
   ]
  },
  {
   "cell_type": "code",
   "execution_count": null,
   "id": "f6a4ed6b",
   "metadata": {},
   "outputs": [],
   "source": []
  }
 ],
 "metadata": {
  "kernelspec": {
   "display_name": "Python 3 (ipykernel)",
   "language": "python",
   "name": "python3"
  },
  "language_info": {
   "codemirror_mode": {
    "name": "ipython",
    "version": 3
   },
   "file_extension": ".py",
   "mimetype": "text/x-python",
   "name": "python",
   "nbconvert_exporter": "python",
   "pygments_lexer": "ipython3",
   "version": "3.11.5"
  }
 },
 "nbformat": 4,
 "nbformat_minor": 5
}
