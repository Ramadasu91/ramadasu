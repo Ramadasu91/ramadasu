{
 "cells": [
  {
   "cell_type": "code",
   "execution_count": null,
   "id": "dadbb0d5",
   "metadata": {},
   "outputs": [],
   "source": [
    "import json\n",
    "\n",
    "fd=open(\"Records.json\",'r')\n",
    "js=fd.read()\n",
    "fd.close()\n",
    "record = json.loads(js)\n",
    "\n",
    "sale=''\n",
    "\n",
    "print(\"--------------------MENU---------------------\")\n",
    "for key in record.keys():\n",
    "    print(key, record[key]['Name'], record[key]['Price'], record[key]['Qn'])\n",
    "print(\"---------------------------------------------\")\n",
    "print('')\n",
    "\n",
    "user_name=input(\"Enter your name : \")\n",
    "user_mail_id=input(\"Enter your maiil id : \")\n",
    "user_ph=input(\"Enter your phone number : \")\n",
    "user_prod_id=input(\"Enter product id : \")\n",
    "user_prod_qn=int(input(\"Enter product quantity : \"))\n",
    "\n",
    "if(record[user_prod_id]['Qn']>=user_prod_qn):\n",
    "    print(\"-----------------------------\")\n",
    "    print(\"product name : \",record[user_prod_id]['Name'])\n",
    "    print(\"product price : \",record[user_prod_id]['Price'])\n",
    "    print(\"product quantity : \",user_prod_qn)\n",
    "\n",
    "    print(\"-----------------------------\")\n",
    "    print(\"Billing amount  : \",record[user_prod_id]['Price']*user_prod_qn)\n",
    "    print(\"-----------------------------\")\n",
    "\n",
    "    record[user_prod_id]['Qn']=record[user_prod_id]['Qn']-user_prod_qn\n",
    "    sale = user_name+\",\"+user_mail+\",\"+user_ph+\",\"+user_prod_id+\",\"+str(record[user_prod_id][\"Name\"])+\",\"+user_prod_qn+\",\"+str(record[user_prod_id][\"Price\"])+\",\"+str(user_prod_qn * record[user_prod_id][\"Price\"])+\",\"+time.ctime()+\"\\n\"\n",
    "\n",
    "   \n",
    "    \n",
    "else:\n",
    "    print(\"we are not having that  much quantity\")\n",
    "    print(\"we are having \",record[user_prod_id]['Qn'],\"only\")\n",
    "    print(\"are willing to purchase\")\n",
    "    ch=input(\"Enter y/n\")\n",
    "    if(ch=='y' or ch=='Y'):\n",
    "        print(\"-----------------------------\")\n",
    "        print(\"product name : \",record[user_prod_id]['Name'])\n",
    "        print(\"product price : \",record[user_prod_id]['Price'])\n",
    "        print(\"product quantity : \",record[user_prod_id]['Qn'])\n",
    "\n",
    "        print(\"-----------------------------\")\n",
    "        print(\"Billing amount  : \",record[user_prod_id]['Price']*record[user_prod_id]['Qn'])\n",
    "        print(\"-----------------------------\")\n",
    "\n",
    "        record[user_prod_id]['Qn']=0\n",
    "        sale = user_name+\",\"+user_mail+\",\"+user_ph+\",\"+user_prod_id+\",\"+record[user_prod_id][\"Name\"]+\",\"+str(record[user_prod_id]['Qn'])+\",\"+str(record[user_prod_id][\"Price\"])+\",\"+str(record[user_prod_id]['Qn'] * record[ui_prod_id][\"Price\"])+\",\"+time.ctime()+\"\\n\"\n",
    "    else:\n",
    "        print(\"Thanks!\")\n",
    "        \n",
    "        \n",
    "js=json.dumps(record)\n",
    "\n",
    "fd=open(\"Records.json\",'w')\n",
    "fd.write(js)\n",
    "fd.close()\n",
    "\n",
    "fd=open(\"json_Sales.csv\",'a')\n",
    "fd.write(sale)\n",
    "fd.close()\n"
   ]
  },
  {
   "cell_type": "code",
   "execution_count": 13,
   "id": "fc629de4",
   "metadata": {},
   "outputs": [
    {
     "data": {
      "text/plain": [
       "{'1001': {'Name': '5 Star', 'Price': 10, 'Qn': 194},\n",
       " '1002': {'Name': 'Bar-One', 'Price': 20, 'Qn': 100},\n",
       " '1003': {'Name': 'Candy', 'Price': 2, 'Qn': 1000},\n",
       " '1004': {'Name': 'Chocolate Cake', 'Price': 550, 'Qn': 8},\n",
       " '1005': {'Name': 'Blueberry Cake', 'Price': 650, 'Qn': 0}}"
      ]
     },
     "execution_count": 13,
     "metadata": {},
     "output_type": "execute_result"
    }
   ],
   "source": [
    "record"
   ]
  },
  {
   "cell_type": "code",
   "execution_count": null,
   "id": "901e53d4",
   "metadata": {},
   "outputs": [],
   "source": []
  }
 ],
 "metadata": {
  "kernelspec": {
   "display_name": "Python 3 (ipykernel)",
   "language": "python",
   "name": "python3"
  },
  "language_info": {
   "codemirror_mode": {
    "name": "ipython",
    "version": 3
   },
   "file_extension": ".py",
   "mimetype": "text/x-python",
   "name": "python",
   "nbconvert_exporter": "python",
   "pygments_lexer": "ipython3",
   "version": "3.11.5"
  }
 },
 "nbformat": 4,
 "nbformat_minor": 5
}
