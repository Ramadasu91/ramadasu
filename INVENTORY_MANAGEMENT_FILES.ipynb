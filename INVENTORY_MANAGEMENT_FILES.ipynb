{
 "cells": [
  {
   "cell_type": "code",
   "execution_count": null,
   "id": "18dceabb",
   "metadata": {},
   "outputs": [],
   "source": [
    "#opening the inventory file\n",
    "fd=open(\"prod_details.txt\",'r')"
   ]
  },
  {
   "cell_type": "code",
   "execution_count": null,
   "id": "4e10be66",
   "metadata": {},
   "outputs": [],
   "source": [
    "#Reading the data in file\n",
    "txt=fd.read()\n",
    "fd.close()"
   ]
  },
  {
   "cell_type": "code",
   "execution_count": null,
   "id": "47ef1d11",
   "metadata": {},
   "outputs": [],
   "source": [
    "#Displaying the content in data\n",
    "print(txt)"
   ]
  },
  {
   "cell_type": "code",
   "execution_count": 4,
   "id": "ba44ded5",
   "metadata": {},
   "outputs": [],
   "source": [
    "#going through every product\n",
    "products=txt.split(\"\\n\")"
   ]
  },
  {
   "cell_type": "code",
   "execution_count": null,
   "id": "543d4bc7",
   "metadata": {},
   "outputs": [],
   "source": [
    "#importing time module\n",
    "import time\n",
    "\n",
    "#Taking input from user like product ID,product quanrity user wishes\n",
    "user_name=input(\"Enter your name : \")\n",
    "user_phone=input(\"Enter your phone number : \")\n",
    "user_mail_id=input(\"Enter your mail Id : \")\n",
    "user_prod_id=input(\"enter the product id : \")\n",
    "user_prod_quant=input(\"enter quantity of product : \")\n",
    "updated_prod_list=[]\n",
    "\n",
    "#going through details of each product\n",
    "for prod in products:\n",
    "    prod_details=prod.split(\",\")\n",
    "    \n",
    "    #checking if product is available\n",
    "    if(prod_details[0]==user_prod_id):\n",
    "        \n",
    "        #if user entered quantity is available\n",
    "        if(int(user_prod_quant)<=int(prod_details[3])):\n",
    "            print(\"--------------------------------------\")\n",
    "            print(\"Name of the product     : \",prod_details[1])\n",
    "            print(\"price of the product    : \",prod_details[2])\n",
    "            print(\"Quantity of the product : \",user_prod_quant)\n",
    "            print(\"--------------------------------------\")\n",
    "            print(\"Total price             : \",int(user_prod_quant)*int(prod_details[2]))\n",
    "            print(\"--------------------------------------\")\n",
    "            prod_details[3]=str(int(prod_details[3])-int(user_prod_quant))\n",
    "            \n",
    "            #generating sales data\n",
    "            sd=open(\"Sales.txt\",'a')\n",
    "            sd.write(user_name+\",\"+user_phone+\",\"+user_mail_id+\",\"+user_prod_id+\",\"+prod_details[1]+\",\"+user_prod_quant+\",\"+str(int(user_prod_quant)*int(prod_details[2]))+\",\"+time.ctime)\n",
    "            sd.close()\n",
    "            \n",
    "        #if user entered quantity is not available\n",
    "        else:\n",
    "            print(\"Sorry, we are not having enough quantity\")\n",
    "            print(\"we are having \",prod_details[3],\" quantity\")\n",
    "            print(\"would you like to purchase ?\")\n",
    "            \n",
    "            ch=input(\"Enter Y/N \")\n",
    "            if(ch=='Y' or ch==\"y\"):\n",
    "                print(\"--------------------------------------\")\n",
    "                print(\"Name of the product     : \",prod_details[1])\n",
    "                print(\"price of the product    : \",prod_details[2])\n",
    "                print(\"Quantity of the product : \",prod_details[3])\n",
    "                print(\"--------------------------------------\")\n",
    "                print(\"Total price             : \",int(prod_details[3])*int(prod_details[2]))\n",
    "                print(\"--------------------------------------\")\n",
    "                prod_details[3]=\"0\"\n",
    "                \n",
    "                sd=open(\"Sales.txt\",'a')\n",
    "                sd.write(user_name+\",\"+user_phone+\",\"+user_mail_id+\",\"+user_prod_id+\",\"+prod_details[1]+\",\"+user_prod_quant+\",\"+str(int(user_prod_quant)*int(prod_details[2]))+\",\"+time.ctime)\n",
    "                sd.close()\n",
    "            else:\n",
    "                print(\"Thanks\")\n",
    "     #updating list of products           \n",
    "    updated_prod_list.append(prod_details)\n",
    "l=[]\n",
    "#updating the updated_prod list to string and storing it in another list L\n",
    "for i in updated_prod_list:\n",
    "    product=i[0]+','+i[1]+','+i[2]+','+i[3]+'\\n'\n",
    "    l.append(product)\n",
    "    \n",
    "#removing the last new empty product details\n",
    "l[-1]=l[-1][:-1]\n",
    "fd=open(\"prod_details.txt\",'w')\n",
    "\n",
    "#updating or writing data into original file\n",
    "for i in l:\n",
    "    fd.write(i)\n",
    "fd.close()\n",
    "print(\"--------------------\")\n",
    "print(\"Inventory Updated\")\n",
    "        "
   ]
  },
  {
   "cell_type": "code",
   "execution_count": null,
   "id": "34465ade",
   "metadata": {},
   "outputs": [],
   "source": []
  },
  {
   "cell_type": "code",
   "execution_count": null,
   "id": "1bcde3ea",
   "metadata": {},
   "outputs": [],
   "source": []
  }
 ],
 "metadata": {
  "kernelspec": {
   "display_name": "Python 3 (ipykernel)",
   "language": "python",
   "name": "python3"
  },
  "language_info": {
   "codemirror_mode": {
    "name": "ipython",
    "version": 3
   },
   "file_extension": ".py",
   "mimetype": "text/x-python",
   "name": "python",
   "nbconvert_exporter": "python",
   "pygments_lexer": "ipython3",
   "version": "3.11.5"
  }
 },
 "nbformat": 4,
 "nbformat_minor": 5
}
