{
 "cells": [
  {
   "cell_type": "code",
   "execution_count": 52,
   "id": "ebb4ce6c",
   "metadata": {},
   "outputs": [],
   "source": [
    "import numpy as np"
   ]
  },
  {
   "cell_type": "code",
   "execution_count": 53,
   "id": "9f794f28",
   "metadata": {},
   "outputs": [],
   "source": [
    "a=np.eye(3,dtype=int)"
   ]
  },
  {
   "cell_type": "code",
   "execution_count": 54,
   "id": "7ce4dfd0",
   "metadata": {},
   "outputs": [
    {
     "data": {
      "text/plain": [
       "array([[1, 0, 0],\n",
       "       [0, 1, 0],\n",
       "       [0, 0, 1]])"
      ]
     },
     "execution_count": 54,
     "metadata": {},
     "output_type": "execute_result"
    }
   ],
   "source": [
    "a"
   ]
  },
  {
   "cell_type": "code",
   "execution_count": 55,
   "id": "203dd96b",
   "metadata": {},
   "outputs": [],
   "source": [
    "b=np.empty(shape=(3,4))"
   ]
  },
  {
   "cell_type": "code",
   "execution_count": 56,
   "id": "d15b565a",
   "metadata": {},
   "outputs": [
    {
     "data": {
      "text/plain": [
       "array([[0., 0., 1., 0.],\n",
       "       [1., 1., 0., 1.],\n",
       "       [0., 0., 0., 0.]])"
      ]
     },
     "execution_count": 56,
     "metadata": {},
     "output_type": "execute_result"
    }
   ],
   "source": [
    "b"
   ]
  },
  {
   "cell_type": "code",
   "execution_count": 57,
   "id": "954970f0",
   "metadata": {},
   "outputs": [
    {
     "data": {
      "text/plain": [
       "array([[0.08982104, 0.39673661, 0.35413804, 0.486638  ],\n",
       "       [0.99082093, 0.80828168, 0.64945888, 0.81947279],\n",
       "       [0.24254041, 0.76437261, 0.11090076, 0.20415475]])"
      ]
     },
     "execution_count": 57,
     "metadata": {},
     "output_type": "execute_result"
    }
   ],
   "source": [
    "c=np.random.rand(3,4)\n",
    "c"
   ]
  },
  {
   "cell_type": "code",
   "execution_count": 58,
   "id": "e9f2e325",
   "metadata": {},
   "outputs": [
    {
     "data": {
      "text/plain": [
       "array([3, 2, 3, 8, 1, 6, 1, 1, 5, 5])"
      ]
     },
     "execution_count": 58,
     "metadata": {},
     "output_type": "execute_result"
    }
   ],
   "source": [
    "d=np.random.randint(1,10,10)\n",
    "d"
   ]
  },
  {
   "cell_type": "code",
   "execution_count": 59,
   "id": "c38eb297",
   "metadata": {},
   "outputs": [
    {
     "data": {
      "text/plain": [
       "array([ 0.07453116,  0.55653535,  1.97258009, -0.24106628,  0.36337589,\n",
       "        1.07448417, -1.99994678,  0.95853877,  0.94220227,  0.5689886 ,\n",
       "        0.92890695,  1.22638799,  0.63100176, -0.96330626,  1.78921962,\n",
       "        1.69254037,  1.10626582, -1.6127783 , -0.26487859, -0.21313737,\n",
       "       -0.18430823,  0.42384392, -0.72306169, -0.04241936, -0.90760603,\n",
       "       -0.74412559, -0.15469471,  0.55846676, -1.52235639, -0.89264319,\n",
       "        0.62412594, -0.80518352,  0.21228006,  0.49235385,  1.66745318,\n",
       "       -1.90475993, -0.52030071, -0.43239057,  0.27836227,  0.27090734,\n",
       "       -0.91362123,  0.35889997, -0.53508396, -0.95499726,  1.69688074,\n",
       "       -0.1117076 , -0.37001188, -0.1012709 , -0.45426876, -0.88492155,\n",
       "       -0.31169476, -0.84966467,  0.97847237,  0.66159202,  0.46084992,\n",
       "       -0.05269805, -2.89921773,  2.23442374,  0.66670258,  1.33828423,\n",
       "        0.18510509,  2.61107548,  0.3714466 , -1.41770447,  0.5714325 ,\n",
       "        0.48784905,  0.58095052, -0.42377613,  0.41345756, -0.56856603,\n",
       "        0.15897075,  0.31910959,  0.19728042,  0.04296076, -0.25395401,\n",
       "        0.42984997, -1.68999582,  0.98487875,  2.02685765, -0.76216195,\n",
       "        0.95724318, -0.44039184, -1.20199497,  0.51440471,  0.46118058,\n",
       "       -2.33484049, -1.18684664,  0.95155685,  0.82054659,  1.03172546,\n",
       "        1.04766868, -0.51082966,  0.08116889,  0.1335182 ,  0.30891926,\n",
       "       -1.20170063,  1.28507236, -0.80397452,  0.17952947,  0.3761378 ])"
      ]
     },
     "execution_count": 59,
     "metadata": {},
     "output_type": "execute_result"
    }
   ],
   "source": [
    "e=np.random.randn(100)\n",
    "e"
   ]
  },
  {
   "cell_type": "code",
   "execution_count": 60,
   "id": "28cc1c34",
   "metadata": {},
   "outputs": [
    {
     "data": {
      "text/plain": [
       "(array([ 1.,  3.,  4., 15., 16., 21., 22., 10.,  6.,  2.]),\n",
       " array([-2.89921773, -2.34818841, -1.79715909, -1.24612977, -0.69510045,\n",
       "        -0.14407113,  0.4069582 ,  0.95798752,  1.50901684,  2.06004616,\n",
       "         2.61107548]),\n",
       " <BarContainer object of 10 artists>)"
      ]
     },
     "execution_count": 60,
     "metadata": {},
     "output_type": "execute_result"
    },
    {
     "data": {
      "image/png": "[encoded data removed]",
      "text/plain": [
       "<Figure size 640x480 with 1 Axes>"
      ]
     },
     "metadata": {},
     "output_type": "display_data"
    }
   ],
   "source": [
    "import matplotlib.pyplot as plt\n",
    "plt.hist(e,bins=10)"
   ]
  },
  {
   "cell_type": "code",
   "execution_count": 61,
   "id": "0f75fc2c",
   "metadata": {},
   "outputs": [
    {
     "data": {
      "text/plain": [
       "array([   4.,   16.,   64.,  256., 1024.])"
      ]
     },
     "execution_count": 61,
     "metadata": {},
     "output_type": "execute_result"
    }
   ],
   "source": [
    "f=np.logspace(2,10,5,base=2)\n",
    "f"
   ]
  },
  {
   "cell_type": "code",
   "execution_count": 62,
   "id": "bdbf1c2d",
   "metadata": {},
   "outputs": [
    {
     "data": {
      "text/plain": [
       "array([[1, 0, 0],\n",
       "       [0, 1, 0],\n",
       "       [0, 0, 1]])"
      ]
     },
     "execution_count": 62,
     "metadata": {},
     "output_type": "execute_result"
    }
   ],
   "source": [
    "a1=np.copy(a)\n",
    "a1"
   ]
  },
  {
   "cell_type": "code",
   "execution_count": 63,
   "id": "66f6dfe9",
   "metadata": {},
   "outputs": [
    {
     "data": {
      "text/plain": [
       "array([4, 7, 7, 1, 9])"
      ]
     },
     "execution_count": 63,
     "metadata": {},
     "output_type": "execute_result"
    }
   ],
   "source": [
    "np.random.seed(5)\n",
    "qw=np.random.randint(1,10,5)\n",
    "qw"
   ]
  },
  {
   "cell_type": "code",
   "execution_count": 64,
   "id": "47ad6469",
   "metadata": {},
   "outputs": [
    {
     "data": {
      "text/plain": [
       "7.0"
      ]
     },
     "execution_count": 64,
     "metadata": {},
     "output_type": "execute_result"
    }
   ],
   "source": [
    "np.percentile(qw,75)"
   ]
  },
  {
   "cell_type": "code",
   "execution_count": 65,
   "id": "e4f3afbe",
   "metadata": {},
   "outputs": [
    {
     "data": {
      "text/plain": [
       "array([100,   7,   7,   1,   9])"
      ]
     },
     "execution_count": 65,
     "metadata": {},
     "output_type": "execute_result"
    }
   ],
   "source": [
    "np.where(qw%2==0,100,qw)"
   ]
  },
  {
   "cell_type": "code",
   "execution_count": 66,
   "id": "75573f95",
   "metadata": {},
   "outputs": [],
   "source": [
    "from matplotlib.image import imread"
   ]
  },
  {
   "cell_type": "code",
   "execution_count": 67,
   "id": "649b41fe",
   "metadata": {},
   "outputs": [],
   "source": [
    "img=imread('PDS CHRISTMAS POSTER.png')"
   ]
  },
  {
   "cell_type": "code",
   "execution_count": 68,
   "id": "25593757",
   "metadata": {},
   "outputs": [
    {
     "data": {
      "text/plain": [
       "(1827, 1570, 4)"
      ]
     },
     "execution_count": 68,
     "metadata": {},
     "output_type": "execute_result"
    }
   ],
   "source": [
    "img.shape"
   ]
  },
  {
   "cell_type": "code",
   "execution_count": null,
   "id": "a79d7889",
   "metadata": {},
   "outputs": [],
   "source": []
  }
 ],
 "metadata": {
  "kernelspec": {
   "display_name": "Python 3 (ipykernel)",
   "language": "python",
   "name": "python3"
  },
  "language_info": {
   "codemirror_mode": {
    "name": "ipython",
    "version": 3
   },
   "file_extension": ".py",
   "mimetype": "text/x-python",
   "name": "python",
   "nbconvert_exporter": "python",
   "pygments_lexer": "ipython3",
   "version": "3.11.5"
  }
 },
 "nbformat": 4,
 "nbformat_minor": 5
}
