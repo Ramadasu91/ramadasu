{
 "cells": [
  {
   "cell_type": "code",
   "execution_count": 1,
   "id": "d6af4508",
   "metadata": {},
   "outputs": [],
   "source": [
    "fd=open(\"AICHATBOT.txt\",'r')"
   ]
  },
  {
   "cell_type": "code",
   "execution_count": 2,
   "id": "aa74628a",
   "metadata": {},
   "outputs": [
    {
     "name": "stdout",
     "output_type": "stream",
     "text": [
      "what is your name : Ram\n",
      "what is the age of modi : 70\n"
     ]
    }
   ],
   "source": [
    "print(fd.read())"
   ]
  },
  {
   "cell_type": "code",
   "execution_count": 3,
   "id": "1a723d5b",
   "metadata": {},
   "outputs": [],
   "source": [
    "fd.close()"
   ]
  },
  {
   "cell_type": "code",
   "execution_count": 11,
   "id": "7ee35775",
   "metadata": {},
   "outputs": [],
   "source": [
    "dt=open(\"AICHATBOT.txt\",'w')"
   ]
  },
  {
   "cell_type": "code",
   "execution_count": 13,
   "id": "26cd0205",
   "metadata": {},
   "outputs": [
    {
     "data": {
      "text/plain": [
       "11"
      ]
     },
     "execution_count": 13,
     "metadata": {},
     "output_type": "execute_result"
    }
   ],
   "source": [
    "dt.write(\"hello world\")"
   ]
  },
  {
   "cell_type": "code",
   "execution_count": 17,
   "id": "e8a979aa",
   "metadata": {},
   "outputs": [],
   "source": [
    "dt.close()"
   ]
  },
  {
   "cell_type": "code",
   "execution_count": 18,
   "id": "dba62f10",
   "metadata": {},
   "outputs": [],
   "source": [
    "dt=open(\"AICHATBOT.txt\",'r')"
   ]
  },
  {
   "cell_type": "code",
   "execution_count": 19,
   "id": "e7147351",
   "metadata": {},
   "outputs": [
    {
     "name": "stdout",
     "output_type": "stream",
     "text": [
      "hello world\n"
     ]
    }
   ],
   "source": [
    "print(dt.read())"
   ]
  },
  {
   "cell_type": "code",
   "execution_count": 20,
   "id": "97056e7a",
   "metadata": {},
   "outputs": [],
   "source": [
    "dt=open(\"AICHATBOT.txt\",'w')"
   ]
  },
  {
   "cell_type": "code",
   "execution_count": 21,
   "id": "9e87c4b5",
   "metadata": {},
   "outputs": [
    {
     "data": {
      "text/plain": [
       "12"
      ]
     },
     "execution_count": 21,
     "metadata": {},
     "output_type": "execute_result"
    }
   ],
   "source": [
    "dt.write(\"prime factor\")"
   ]
  },
  {
   "cell_type": "code",
   "execution_count": 22,
   "id": "35df8fbe",
   "metadata": {},
   "outputs": [],
   "source": [
    "dt=open(\"AICHATBOT.txt\",'r')"
   ]
  },
  {
   "cell_type": "code",
   "execution_count": 23,
   "id": "2a236df2",
   "metadata": {},
   "outputs": [
    {
     "name": "stdout",
     "output_type": "stream",
     "text": [
      "prime factor\n"
     ]
    }
   ],
   "source": [
    "print(dt.read())"
   ]
  },
  {
   "cell_type": "code",
   "execution_count": 42,
   "id": "b1e2194f",
   "metadata": {},
   "outputs": [],
   "source": [
    "dt=open(\"AICHATBOT.txt\",'a')"
   ]
  },
  {
   "cell_type": "code",
   "execution_count": 43,
   "id": "732f6421",
   "metadata": {},
   "outputs": [
    {
     "data": {
      "text/plain": [
       "25"
      ]
     },
     "execution_count": 43,
     "metadata": {},
     "output_type": "execute_result"
    }
   ],
   "source": [
    "dt.write(\"hello world \\n how are you\")"
   ]
  },
  {
   "cell_type": "code",
   "execution_count": 44,
   "id": "ba306ffc",
   "metadata": {},
   "outputs": [],
   "source": [
    "dt=open(\"AICHATBOT.txt\",'r')"
   ]
  },
  {
   "cell_type": "code",
   "execution_count": 45,
   "id": "2ea873ad",
   "metadata": {},
   "outputs": [],
   "source": [
    "txt=dt.read()"
   ]
  },
  {
   "cell_type": "code",
   "execution_count": 46,
   "id": "1a2852de",
   "metadata": {},
   "outputs": [],
   "source": [
    "NL=txt.split(\"\\n\")"
   ]
  },
  {
   "cell_type": "code",
   "execution_count": 47,
   "id": "f39107a4",
   "metadata": {},
   "outputs": [
    {
     "data": {
      "text/plain": [
       "2"
      ]
     },
     "execution_count": 47,
     "metadata": {},
     "output_type": "execute_result"
    }
   ],
   "source": [
    "len(NL)"
   ]
  },
  {
   "cell_type": "code",
   "execution_count": null,
   "id": "1cd6d2ab",
   "metadata": {},
   "outputs": [],
   "source": []
  },
  {
   "cell_type": "code",
   "execution_count": 49,
   "id": "b7419337",
   "metadata": {},
   "outputs": [
    {
     "data": {
      "text/plain": [
       "'hello world  how are you'"
      ]
     },
     "execution_count": 49,
     "metadata": {},
     "output_type": "execute_result"
    }
   ],
   "source": [
    "txt.replace(\"\\n\",\"\")"
   ]
  },
  {
   "cell_type": "code",
   "execution_count": null,
   "id": "7f75b36d",
   "metadata": {},
   "outputs": [],
   "source": []
  },
  {
   "cell_type": "code",
   "execution_count": null,
   "id": "becd37d2",
   "metadata": {},
   "outputs": [],
   "source": []
  },
  {
   "cell_type": "code",
   "execution_count": null,
   "id": "6ba62c42",
   "metadata": {},
   "outputs": [],
   "source": []
  },
  {
   "cell_type": "code",
   "execution_count": null,
   "id": "eb820342",
   "metadata": {},
   "outputs": [],
   "source": []
  }
 ],
 "metadata": {
  "kernelspec": {
   "display_name": "Python 3 (ipykernel)",
   "language": "python",
   "name": "python3"
  },
  "language_info": {
   "codemirror_mode": {
    "name": "ipython",
    "version": 3
   },
   "file_extension": ".py",
   "mimetype": "text/x-python",
   "name": "python",
   "nbconvert_exporter": "python",
   "pygments_lexer": "ipython3",
   "version": "3.11.5"
  }
 },
 "nbformat": 4,
 "nbformat_minor": 5
}
